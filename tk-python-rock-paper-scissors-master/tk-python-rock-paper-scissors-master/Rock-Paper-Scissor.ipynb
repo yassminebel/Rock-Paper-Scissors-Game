{
 "cells": [
  {
   "cell_type": "code",
   "execution_count": 2,
   "id": "3d21d289",
   "metadata": {},
   "outputs": [],
   "source": [
    "from tkinter import *\n",
    "from random import randint\n",
    "\n",
    "\n",
    "def rock():\n",
    "\n",
    "    user = \"rock\"\n",
    "    turn(user)\n",
    "\n",
    "\n",
    "def paper():\n",
    "\n",
    "    user = \"paper\"\n",
    "    turn(user)\n",
    "\n",
    "\n",
    "def scissors():\n",
    "\n",
    "    user = \"scissors\"\n",
    "    turn(user)\n",
    "\n",
    "\n",
    "def turn(user):\n",
    "\n",
    "    opp = ['rock', 'paper', 'scissors']\n",
    "    cpu = opp[randint(0,2)]\n",
    "    if cpu == user:\n",
    "        result.configure(text=\"\\n\\n\\n\\nIt's a draw.\\n\\n\\n\\n You both choose same\")\n",
    "    elif cpu == 'rock' and user == 'scissors':\n",
    "        result.configure(text=\"\\n\\n\\n\\nYou are defeated!\\n\\n\\n\\nOpponent had Rock\")\n",
    "    elif cpu == 'paper' and user == 'rock':\n",
    "        result.configure(text=\"\\n\\n\\n\\nYou are defeated!\\n\\n\\n\\nOpponent had Paper\")\n",
    "    elif cpu == 'scissors' and user == 'paper':\n",
    "        result.configure(text=\"\\n\\n\\n\\nYou are defeated!\\n\\n\\n\\nOpponent had Scissor\")\n",
    "    elif cpu == 'scissors' and user == 'rock':\n",
    "        result.configure(text=\"\\n\\n\\n\\nYou Win!\\n\\n\\n\\nOpponent had Scissors\")\n",
    "    elif cpu == 'rock' and user == 'paper':\n",
    "        result.configure(text=\"\\n\\n\\n\\nYou Win!\\n\\n\\n\\nOpponent had Rock\")\n",
    "    elif cpu == 'paper' and user == 'scissors':\n",
    "        result.configure(text=\"\\n\\n\\n\\nYou Win!\\n\\n\\n\\nOpponent had Paper\")\n",
    "\n",
    "\n",
    "mainWindow = Tk()\n",
    "mainWindow.title(\"Rock-Paper-Scissors\")\n",
    "mainWindow.geometry(\"800x600\")\n",
    "rockButton = Button(mainWindow, width=20, text=\"ROCK!\", justify=CENTER,\n",
    "                    command=rock)\n",
    "paperButton = Button(mainWindow, width=20, text=\"PAPER!\", justify=CENTER,\n",
    "                     command=paper)\n",
    "scissorsButton = Button(mainWindow, width=20, text=\"SCISSORS!\", justify=CENTER,\n",
    "                        command=scissors)\n",
    "result = Label(mainWindow, width=30, justify=CENTER, font=(\"Helvetica\", 20))\n",
    "rockButton.grid(row=3, column=1)\n",
    "paperButton.grid(row=3, column=2)\n",
    "scissorsButton.grid(row=3, column=3)\n",
    "result.grid(row=5, column=2)\n",
    "mainWindow.mainloop()"
   ]
  },
  {
   "cell_type": "code",
   "execution_count": null,
   "id": "d45791e8",
   "metadata": {},
   "outputs": [],
   "source": []
  }
 ],
 "metadata": {
  "kernelspec": {
   "display_name": "Python 3 (ipykernel)",
   "language": "python",
   "name": "python3"
  },
  "language_info": {
   "codemirror_mode": {
    "name": "ipython",
    "version": 3
   },
   "file_extension": ".py",
   "mimetype": "text/x-python",
   "name": "python",
   "nbconvert_exporter": "python",
   "pygments_lexer": "ipython3",
   "version": "3.10.7"
  }
 },
 "nbformat": 4,
 "nbformat_minor": 5
}
